{
 "cells": [
  {
   "attachments": {},
   "cell_type": "markdown",
   "metadata": {},
   "source": [
    "Physics 474 - Spring 2023 <br>\n",
    "\n",
    "Homework 0 - Basic practice\n",
    "\n",
    "<font color='red'>Author: Dillon Walton"
   ]
  },
  {
   "cell_type": "markdown",
   "metadata": {},
   "source": [
    "________________________________________________________________________________\n",
    "NOTE: These problems are for practicing with python and not necessarily the best way\n",
    "to do the programming\n",
    "\n",
    "There are always many ways to do the code, and not just a \"right\" way. But, you need to do the coding within the rules and constraints I ask for. Thanks!\n",
    "________________________________________________________________________________\n",
    "Problem 1a: (1pt)\n",
    "\n",
    "Write a program with a single \"for-loop\" and \"if...else...\" that calculates  BOTH\n",
    "- The sum of integers from 1 to 100 \n",
    "- The sum of integers from 101 to 200\n",
    "\n",
    "In that single loop. Print out the results\n",
    "_______________________________________________________________________________"
   ]
  },
  {
   "cell_type": "code",
   "execution_count": 18,
   "metadata": {},
   "outputs": [
    {
     "name": "stdout",
     "output_type": "stream",
     "text": [
      "final count 1 to 100: 5050\n",
      "final count 101 to 200: 15050\n"
     ]
    }
   ],
   "source": [
    "# Problem 1a code here...\n",
    "i = 1\n",
    "x = 0\n",
    "y = 0\n",
    "for j in range(0,200,1):\n",
    "    if i < 101:\n",
    "        x += i\n",
    "        # print(x)\n",
    "    else:\n",
    "        y += i\n",
    "        # print(y)\n",
    "    i += 1\n",
    "\n",
    "print(f'final count 1 to 100: {x}')\n",
    "print(f'final count 101 to 200: {y}')\n"
   ]
  },
  {
   "cell_type": "markdown",
   "metadata": {},
   "source": [
    "________________________________________________________________________________\n",
    "Problem 1b: (2pt)\n",
    "\n",
    "write a user defined function to calculate the sum of integers input as a parameter\n",
    "\n",
    "print the sum of integers from 1 to n for:\n",
    "- $10 \\le n \\le 50$ \n",
    "\n",
    "_______________________________________________________________________________"
   ]
  },
  {
   "cell_type": "code",
   "execution_count": 27,
   "metadata": {},
   "outputs": [
    {
     "name": "stdout",
     "output_type": "stream",
     "text": [
      "Final sum: 66\n"
     ]
    }
   ],
   "source": [
    "# Problem 1b code here...\n",
    "\n",
    "def sumOfIntegers(n):\n",
    "    x = 0\n",
    "    for i in range(1,n+1,1):\n",
    "        x += i\n",
    "        # print(x)\n",
    "    print(f'Final sum: {x}')\n",
    "\n",
    "sumOfIntegers(11)"
   ]
  },
  {
   "cell_type": "markdown",
   "metadata": {},
   "source": [
    "________________________________________________________________________________\n",
    "Problem 2:  (2pts)\n",
    "\n",
    "Write a program that\n",
    "- prompts the user for an integer $1 \\le n\\le 50$\n",
    "- checks the input to be within range and responds appropriately\n",
    "- uses a loop to calculate and print the factorial of the input number\n",
    "_______________________________________________________________________________"
   ]
  },
  {
   "cell_type": "code",
   "execution_count": 38,
   "metadata": {},
   "outputs": [
    {
     "name": "stdout",
     "output_type": "stream",
     "text": [
      "Factorial for 2 is 2\n"
     ]
    }
   ],
   "source": [
    "# Problem 2 code here...\n",
    "\n",
    "def inputFactorial():\n",
    "    num = int(input('Input number, 1 <= n <= 50, to calculate factorial with'))\n",
    "    factorial = 1\n",
    "    if num >= 1 and num <= 50:\n",
    "        for i in range(1, num+1):\n",
    "            factorial = factorial*i\n",
    "        print(f'Factorial for {num} is {factorial}')\n",
    "    else:\n",
    "        raise Exception('Pick a number between 1 and 50 please')\n",
    "    \n",
    "inputFactorial()"
   ]
  },
  {
   "cell_type": "markdown",
   "metadata": {},
   "source": [
    "________________________________________________________________________________\n",
    "Problem 3a: (2pts)\n",
    "\n",
    "Write a program without NumPy that calulates \n",
    "$f(x) = x^2$ for $-3 \\le x \\le 3$ at x-spacing of $0.5$ \n",
    "and prints a table with 2 columns $x$ and $f(x)$\n",
    "_______________________________________________________________________________"
   ]
  },
  {
   "cell_type": "code",
   "execution_count": 14,
   "metadata": {},
   "outputs": [
    {
     "name": "stdout",
     "output_type": "stream",
     "text": [
      "| x | f(x) |\n",
      "| -3.0 | 9.0  |\n",
      "| -2.5 | 6.25 |\n",
      "| -2.0 | 4.0  |\n",
      "| -1.5 | 2.25 |\n",
      "| -1.0 | 1.0  |\n",
      "| -0.5 | 0.25 |\n",
      "| 0 |  0   |\n",
      "| 0.5 | 0.25 |\n",
      "| 1.0 | 1.0  |\n",
      "| 1.5 | 2.25 |\n",
      "| 2.0 | 4.0  |\n",
      "| 2.5 | 6.25 |\n",
      "| 3.0 | 9.0  |\n"
     ]
    }
   ],
   "source": [
    "# Problem 3a code here...\n",
    "def f(x):\n",
    "    return x**2\n",
    "\n",
    "rng = [-3.0,-2.5,-2.0,-1.5,-1.0,-0.5,0,0.5,1.0,1.5,2.0,2.5,3.0]\n",
    "table = []\n",
    "for i in rng:\n",
    "    table.append([i, f(i)])\n",
    "\n",
    "print('| x | f(x) |')\n",
    "for row in table:\n",
    "    print('| {:1} | {:^4} |'.format(*row))\n"
   ]
  },
  {
   "cell_type": "markdown",
   "metadata": {},
   "source": [
    "___________________________________________________________________________________\n",
    "Problem 3b: (2pts)\n",
    "\n",
    "Repeat problem 3a using NumPy arrays\n",
    "_______________________________________________________________________\n"
   ]
  },
  {
   "cell_type": "code",
   "execution_count": 19,
   "metadata": {},
   "outputs": [
    {
     "name": "stdout",
     "output_type": "stream",
     "text": [
      "| x | f(x) |\n",
      "| -3.0 | 9.0  |\n",
      "| -2.5 | 6.25 |\n",
      "| -2.0 | 4.0  |\n",
      "| -1.5 | 2.25 |\n",
      "| -1.0 | 1.0  |\n",
      "| -0.5 | 0.25 |\n",
      "| 0.0 | 0.0  |\n",
      "| 0.5 | 0.25 |\n",
      "| 1.0 | 1.0  |\n",
      "| 1.5 | 2.25 |\n",
      "| 2.0 | 4.0  |\n",
      "| 2.5 | 6.25 |\n",
      "| 3.0 | 9.0  |\n"
     ]
    }
   ],
   "source": [
    "# Problem 3b code here...\n",
    "import numpy as np\n",
    "\n",
    "def f(x):\n",
    "    return x**2\n",
    "\n",
    "rng = np.arange(-3,3.5,0.5)\n",
    "\n",
    "table = []\n",
    "for i in rng:\n",
    "    table.append([i, f(i)])\n",
    "\n",
    "print('| x | f(x) |')\n",
    "for row in table:\n",
    "    print('| {:1} | {:^4} |'.format(*row))\n"
   ]
  },
  {
   "cell_type": "markdown",
   "metadata": {},
   "source": [
    "___________________________________________________________________________________\n",
    "Problem 3c: (1pt)\n",
    "\n",
    "Make a simple plot of $f(x)$ vs. $x$\n",
    "_______________________________________________________________________"
   ]
  },
  {
   "cell_type": "code",
   "execution_count": 20,
   "metadata": {},
   "outputs": [
    {
     "data": {
      "image/png": "[encoded data removed]",
      "text/plain": [
       "<Figure size 640x480 with 1 Axes>"
      ]
     },
     "metadata": {},
     "output_type": "display_data"
    }
   ],
   "source": [
    "# Problem 3c code here...\n",
    "import matplotlib.pyplot as plt\n",
    "import numpy as np\n",
    "\n",
    "def f(x):\n",
    "    return x**2\n",
    "\n",
    "x = np.arange(-3,3.5,0.5)\n",
    "y = []\n",
    "\n",
    "for i in x:\n",
    "    y.append(f(i))\n",
    "\n",
    "plt.plot(x, y, 'o', color ='red', label =\"f(x)\")\n",
    "plt.title('x vs f(x)')\n",
    "plt.legend()\n",
    "plt.xlabel('x')\n",
    "plt.ylabel('f(x)')\n",
    "plt.show()"
   ]
  },
  {
   "cell_type": "markdown",
   "metadata": {},
   "source": [
    "_____________________________________________________________________________________\n",
    "Problem 4:  (5pts)\n",
    "\n",
    "write a program that generates 500 random numbers from a uniform distribution\n",
    "for $0\\le x \\le 10$ and 500 random numbers from a normal distribution with mean $\\mu=0$ and width \n",
    "$\\sigma=1$.\n",
    "\n",
    "make 3 subplots on a 3x1 grid (3 rows) with\n",
    "- histogram of the uniform distribution random numbers\n",
    "- histogram of normal distribution random numbers\n",
    "- scatter plot of normal randoms vs uniform randoms\n",
    "\n"
   ]
  },
  {
   "cell_type": "code",
   "execution_count": 3,
   "metadata": {},
   "outputs": [
    {
     "data": {
      "text/plain": [
       "<matplotlib.collections.PathCollection at 0x7fb7a1316100>"
      ]
     },
     "execution_count": 3,
     "metadata": {},
     "output_type": "execute_result"
    },
    {
     "data": {
      "image/png": "[encoded data removed]",
      "text/plain": [
       "<Figure size 640x480 with 3 Axes>"
      ]
     },
     "metadata": {},
     "output_type": "display_data"
    }
   ],
   "source": [
    "# Problem 4 code here...\n",
    "from numpy import random, mean, std\n",
    "import matplotlib.pyplot as plt\n",
    "\n",
    "x1=random.randint(10, size=(500))\n",
    "x2=random.normal(size=500,loc=0,scale=1)\n",
    "\n",
    "fig, axs = plt.subplots(3)\n",
    "fig.suptitle('Problem 4')\n",
    "axs[0].hist(x1)\n",
    "axs[1].hist(x2)\n",
    "axs[2].scatter(x2,x1)\n"
   ]
  }
 ],
 "metadata": {
  "kernelspec": {
   "display_name": "base",
   "language": "python",
   "name": "python3"
  },
  "language_info": {
   "codemirror_mode": {
    "name": "ipython",
    "version": 3
   },
   "file_extension": ".py",
   "mimetype": "text/x-python",
   "name": "python",
   "nbconvert_exporter": "python",
   "pygments_lexer": "ipython3",
   "version": "3.9.13"
  },
  "vscode": {
   "interpreter": {
    "hash": "b204799ab82abdfe1c28abde3b03c845f339ff3403360a8210c98b8c049755fc"
   }
  }
 },
 "nbformat": 4,
 "nbformat_minor": 4
}
