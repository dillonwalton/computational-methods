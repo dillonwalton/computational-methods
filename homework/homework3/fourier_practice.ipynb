{
 "cells": [
  {
   "cell_type": "code",
   "execution_count": null,
   "metadata": {},
   "outputs": [],
   "source": [
    "import numpy as np\n",
    "import scipy as sp\n",
    "import matplotlib.pylot as plt\n",
    "plt.style.use(['science','notebook'])\n",
    "import sympy as smp\n",
    "\n",
    "# FFT imports (fast ft)\n",
    "from scipy.fft import fftfreq\n",
    "from scipy.fft import fft,ifft,fft2,ifft2"
   ]
  },
  {
   "attachments": {},
   "cell_type": "markdown",
   "metadata": {},
   "source": [
    "### Discrete Fourier Transform (DFT)\n",
    "\n",
    "$ \\omega_n = e^{(i 2 \\pi) / n} $\n",
    "- fundamental frequency\n",
    "\n",
    "$ \\begin{pmatrix} \n",
    "1 & 1 & 1 & ... & 1 \\\\\n",
    "1 & \\omega_n & \\omega_n^2 & ... & \\omega_n^{(n-1)} \\\\\n",
    "1 & \\omega_n^2 & \\omega_n^4 & ... & \\omega_n^{2(n-1)} \\\\\n",
    "... & ... & ... & ... & ... \\\\\n",
    "1 & \\omega_n^{(n-1)} & \\omega_n^{2(n-1)} & ... & \\omega_n^{(n-1)^2} \\\\\n",
    "\\end{pmatrix} $\n"
   ]
  }
 ],
 "metadata": {
  "kernelspec": {
   "display_name": "base",
   "language": "python",
   "name": "python3"
  },
  "language_info": {
   "name": "python",
   "version": "3.9.13"
  },
  "orig_nbformat": 4,
  "vscode": {
   "interpreter": {
    "hash": "b204799ab82abdfe1c28abde3b03c845f339ff3403360a8210c98b8c049755fc"
   }
  }
 },
 "nbformat": 4,
 "nbformat_minor": 2
}
